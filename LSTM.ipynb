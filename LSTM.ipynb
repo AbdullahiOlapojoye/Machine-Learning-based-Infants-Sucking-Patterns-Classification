{
  "nbformat": 4,
  "nbformat_minor": 0,
  "metadata": {
    "colab": {
      "provenance": [],
      "mount_file_id": "1YMJnRcFl-drixmT1Ri7RYPEPfm9nktjF",
      "authorship_tag": "ABX9TyNOkS0Etd20XAvfbgw4Whpy",
      "include_colab_link": true
    },
    "kernelspec": {
      "name": "python3",
      "display_name": "Python 3"
    },
    "language_info": {
      "name": "python"
    }
  },
  "cells": [
    {
      "cell_type": "markdown",
      "metadata": {
        "id": "view-in-github",
        "colab_type": "text"
      },
      "source": [
        "<a href=\"https://colab.research.google.com/github/AbdullahiOlapojoye/Machine-Learning-based-Infants-Sucking-Patterns-Classification/blob/main/LSTM.ipynb\" target=\"_parent\"><img src=\"https://colab.research.google.com/assets/colab-badge.svg\" alt=\"Open In Colab\"/></a>"
      ]
    },
    {
      "cell_type": "code",
      "execution_count": null,
      "metadata": {
        "id": "KVcW_qpHzWWd"
      },
      "outputs": [],
      "source": [
        "#Libraries\n",
        "import os\n",
        "import pandas as pd\n",
        "import numpy as np\n",
        "import tensorflow as tf\n",
        "from keras.models import Sequential\n",
        "from keras.layers import SimpleRNN, Bidirectional, LSTM, Dense, Dropout, BatchNormalization, Conv1D, MaxPooling1D, Flatten, GlobalAveragePooling1D\n",
        "from keras.optimizers import Adam\n",
        "from keras.models import load_model\n",
        "from keras.callbacks import ModelCheckpoint\n",
        "from sklearn.preprocessing import StandardScaler\n",
        "from sklearn.model_selection import train_test_split\n",
        "\n",
        "# For the Visuals\n",
        "import pandas as pd\n",
        "import seaborn as sns\n",
        "import matplotlib as mpl\n",
        "from matplotlib import cm\n",
        "import matplotlib.patches as patches\n",
        "import matplotlib.pyplot as plt\n",
        "import matplotlib.image as mpimg\n",
        "from matplotlib.ticker import MaxNLocator\n",
        "from matplotlib.offsetbox import AnnotationBbox, OffsetImage\n",
        "from matplotlib.colors import ListedColormap, LinearSegmentedColormap\n",
        "from matplotlib.patches import Rectangle\n",
        "from IPython.display import display_html\n",
        "plt.rcParams.update({'font.size': 16})\n",
        "import plotly.graph_objects as go\n",
        "#performance\n",
        "from sklearn.metrics import accuracy_score\n",
        "from sklearn.metrics import classification_report\n",
        "from sklearn.metrics import precision_score, recall_score, confusion_matrix, precision_recall_fscore_support\n",
        "from sklearn.metrics import roc_auc_score,auc,f1_score\n",
        "from sklearn.metrics import precision_recall_curve,roc_curve"
      ]
    },
    {
      "cell_type": "markdown",
      "source": [
        "# **DATA PREPARATION**"
      ],
      "metadata": {
        "id": "I2vMsJsZ05nC"
      }
    },
    {
      "cell_type": "code",
      "source": [
        "# Function to read and process CSV files\n",
        "def read_and_process_csv(file_path):\n",
        "    df = pd.read_csv(file_path)\n",
        "    data = df[['F1', 'F2']].values\n",
        "    return data\n",
        "\n",
        "# Function to read labels from the \"targets.csv\" file\n",
        "def read_labels_from_targets(targets_file_path):\n",
        "    df_targets = pd.read_csv(targets_file_path)\n",
        "    return df_targets.values\n",
        "\n",
        "# Function to generate data and labels from a list of CSV files\n",
        "def generate_data_from_csv(file_list, targets_file_path):\n",
        "    data_list = []\n",
        "\n",
        "    for file_path in file_list:\n",
        "        time_series_data = read_and_process_csv(file_path)\n",
        "        data_list.append(time_series_data)\n",
        "\n",
        "    labels = read_labels_from_targets(targets_file_path)\n",
        "\n",
        "    return np.array(data_list), np.array(labels)\n",
        "\n",
        "# Specify the path to your CSV files\n",
        "path1 = \"/content/drive/MyDrive/BMEN 6367/SENSOR_DATA_DL_m/Features/Subject_\"\n",
        "targets_file_path = \"/content/drive/MyDrive/BMEN 6367/SENSOR_DATA_DL_V2/Target/Target.csv\"\n",
        "#files\n",
        "csv_files = []\n",
        "for i in range(1,41):\n",
        "    file_path = path1 + str(i) + '.csv'\n",
        "    print(file_path)\n",
        "    csv_files.append(file_path)\n",
        "\n",
        "# Generate data and labels\n",
        "X, y = generate_data_from_csv(csv_files, targets_file_path)\n",
        "\n",
        "# Split the data into training and testing sets\n",
        "X_train, X_test, y_train, y_test = train_test_split(X, y, test_size=0.25, random_state=42)"
      ],
      "metadata": {
        "id": "vBsSfl1GzgQ8"
      },
      "execution_count": null,
      "outputs": []
    },
    {
      "cell_type": "markdown",
      "source": [
        "# **MODELLING WITH LSTM**"
      ],
      "metadata": {
        "id": "eKwnSnJo17X4"
      }
    },
    {
      "cell_type": "code",
      "source": [
        "import numpy as np\n",
        "from sklearn.model_selection import StratifiedKFold\n",
        "from tensorflow.keras.models import Sequential\n",
        "from tensorflow.keras.layers import LSTM, Dense\n",
        "\n",
        "# Define your LSTM model_LSTM\n",
        "model_LSTM = Sequential()\n",
        "model_LSTM.add(LSTM(64, input_shape=(X_train.shape[1], X_train.shape[2]), name=\"lstm_1\"))\n",
        "model_LSTM.add(LSTM(units=32, name=\"lstm_2\"))\n",
        "model_LSTM.add(Dense(1, activation='sigmoid', name=\"output\"))\n",
        "\n",
        "# Compile the model\n",
        "model_LSTM.compile(optimizer='adam', loss='binary_crossentropy', metrics=['accuracy'])\n",
        "\n",
        "# Define 5-fold cross-validation\n",
        "kfold = StratifiedKFold(n_splits=5, shuffle=True, random_state=42)\n",
        "\n",
        "# Perform cross-validation\n",
        "for train_index, val_index in kfold.split(X_train, y_train):\n",
        "    X_train_fold, X_val_fold = X_train[train_index], X_train[val_index]\n",
        "    y_train_fold, y_val_fold = y_train[train_index], y_train[val_index]\n",
        "\n",
        "    # Train the model on the current fold\n",
        "    chk = ModelCheckpoint('best_model_LSTM.pkl', monitor='val_accuracy', save_best_only=True, mode='max', verbose=1)\n",
        "    history = model_LSTM.fit(X_train_fold, y_train_fold, epochs=10, batch_size=32, callbacks=[chk], validation_data=(X_val_fold, y_val_fold))\n",
        "\n",
        "    # Evaluate the model on the validation set of the current fold\n",
        "    results = model_LSTM.evaluate(X_val_fold, y_val_fold)\n",
        "    print(f'Fold Accuracy: {results[1]}')\n",
        "\n",
        "#  Evaluate the overall performance of  model_LSTM on the test set\n",
        "test_results = model_LSTM.evaluate(X_test, y_test)\n",
        "print(f'Test Accuracy: {test_results[1]}')"
      ],
      "metadata": {
        "id": "--a6FK_xzsUE"
      },
      "execution_count": null,
      "outputs": []
    },
    {
      "cell_type": "code",
      "source": [
        "#plot loss history\n",
        "x=np.linspace(1,num_epochs,num_epochs).astype(int)\n",
        "plt.plot(x, history.history[\"val_loss\"], c='red', label='val_loss')\n",
        "plt.plot(x, history.history[\"loss\"], c='blue', label='train_loss')\n",
        "plt.xlabel(\"Epochs\")\n",
        "plt.ylabel(\"Loss\")\n",
        "plt.title(\"Loss vs epochs\")\n",
        "plt.legend()\n",
        "plt.show()\n",
        "#plot accuracy\n",
        "x=np.linspace(1,num_epochs,num_epochs).astype(int)\n",
        "plt.plot(x, history.history[\"val_accuracy\"], c='red', label='val_accuracy')\n",
        "plt.plot(x, history.history[\"accuracy\"], c='blue', label='train_accuracy')\n",
        "plt.xlabel(\"Epochs\")\n",
        "plt.ylabel(\"Accuracy\")\n",
        "plt.title(\"Accuracy vs epochs\")\n",
        "plt.legend()\n",
        "plt.show()"
      ],
      "metadata": {
        "id": "K75_g79x81-u"
      },
      "execution_count": null,
      "outputs": []
    },
    {
      "cell_type": "markdown",
      "source": [
        "**Performance Evaluation**"
      ],
      "metadata": {
        "id": "ymGLAMLW2UCx"
      }
    },
    {
      "cell_type": "code",
      "source": [
        "Train_acc = model_LSTM_Best.predict(X_train)\n",
        "y_pred_train = (Train_acc > 0.5).astype(int)\n",
        "accuracy_train = accuracy_score(y_train, y_pred_train)\n",
        "print(\"Training Accuracy:\", accuracy)"
      ],
      "metadata": {
        "id": "TlCFsy47yA7d"
      },
      "execution_count": null,
      "outputs": []
    },
    {
      "cell_type": "code",
      "source": [
        "# Evaluate the model on the test set\n",
        "model_LSTM_Best = load_model('best_model_LSTM.pkl')\n",
        "y_pred = model_LSTM_Best.predict(X_test)\n",
        "y_pred_LSTM_Best = (y_pred > 0.5).astype(int)\n",
        "\n",
        "#Classification Report\n",
        "print(classification_report(y_test, y_pred_LSTM_Best))\n",
        "print(\"Recall score  =\",recall_score(y_test, y_pred_LSTM_Best))\n",
        "print(\"Precision score =\",precision_score(y_test, y_pred_LSTM_Best))\n",
        "print(\"Accuracy score  =\",accuracy_score(y_test, y_pred_LSTM_Best))\n",
        "print(\"F score  =\", f1_score(y_test, y_pred_LSTM_Best, average='weighted'))\n",
        "\n",
        "# Create confusion matrix\n",
        "cm = confusion_matrix(y_test, y_pred_LSTM_Best)\n",
        "# Plot confusion matrix using seaborn\n",
        "plt.figure(figsize=(8, 6))\n",
        "sns.heatmap(cm, annot=True, fmt='d', cmap='Set1', xticklabels=['Healthy', 'Unhealthy'], yticklabels=['Healthy', 'Unhealthy'])\n",
        "plt.title('Confusion Matrix (LSTM)')\n",
        "plt.xlabel('Predicted Label')\n",
        "plt.ylabel('True Label')\n",
        "plt.show()\n",
        "\n",
        "# Compute ROC curve and ROC area for each class\n",
        "fpr, tpr, _ = roc_curve(y_test, y_pred)\n",
        "roc_auc = auc(fpr, tpr)\n",
        "\n",
        "# Plot ROC curve\n",
        "plt.figure(figsize=(8, 6))\n",
        "plt.plot(fpr, tpr, color='darkorange', lw=2, label='ROC curve (area = {:.2f})'.format(roc_auc))\n",
        "plt.plot([0, 1], [0, 1], color='navy', lw=2, linestyle='--')\n",
        "plt.xlabel('False Positive Rate')\n",
        "plt.ylabel('True Positive Rate')\n",
        "plt.title('Receiver Operating Characteristic (ROC) Curve')\n",
        "plt.legend(loc='lower right')\n",
        "plt.show()"
      ],
      "metadata": {
        "id": "uTURgx6GserF"
      },
      "execution_count": null,
      "outputs": []
    },
    {
      "cell_type": "code",
      "source": [
        "#plot model architecture\n",
        "import keras\n",
        "from keras import models, layers\n",
        "\n",
        "keras.utils.plot_model(model_LSTM_Best,\n",
        "                       to_file=\"Best_lstm_model.png\",\n",
        "                       show_shapes=True,\n",
        "                       show_dtype=False,\n",
        "                       dpi=55,\n",
        "                       show_layer_activations=True,\n",
        "                       )"
      ],
      "metadata": {
        "id": "orioxWuF7aeO"
      },
      "execution_count": null,
      "outputs": []
    },
    {
      "cell_type": "code",
      "source": [
        "# Save predictions to a CSV file\n",
        "predictions_df = pd.DataFrame({'Actual': y_test.flatten(), 'Predicted': y_pred.flatten()})\n",
        "predictions_df.to_csv('LSTM_model_predictions_0.csv', index=False)\n",
        "\n",
        "# # Download the CSV file to your local machine\n",
        "from google.colab import files\n",
        "files.download('LSTM_model_predictions_0.csv')"
      ],
      "metadata": {
        "id": "W5AE9IxvtYwU"
      },
      "execution_count": null,
      "outputs": []
    }
  ]
}